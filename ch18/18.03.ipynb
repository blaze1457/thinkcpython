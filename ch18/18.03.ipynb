{
 "cells": [
  {
   "cell_type": "code",
   "execution_count": 96,
   "metadata": {
    "collapsed": false
   },
   "outputs": [],
   "source": [
    "# Write a Deck method called deal_hands that takes two parameters, the number\n",
    "# of hands and the number of cards per hand, and that creates new Hand\n",
    "# objects, deals the appropriate number of cards per hand, and returns a \n",
    "# list of Hand objects.\n",
    "# Inheritance is a useful feature. Some programs that would be repetitive\n",
    "# without inheritance can be written more elegantly with it. Inheritance can\n",
    "# facilitate code reuse, since you can customize the behavior of parent\n",
    "# classes without having to modify them. In some cases, the inheritance \n",
    "# structure reflects the natural structure of the problem, which makes the\n",
    "# program easier to understand.\n",
    "# On the other hand, inheritance can make programs difficult to read. When\n",
    "# a method is invoked, it is sometimes not clear where to find its definition.\n",
    "# The relevant code may be scattered among several modules. Also, many of \n",
    "# the things that can be done using inheritance can be done as well or \n",
    "# better without it.\n",
    "\n",
    "# Current Status: Complete\n",
    "\n",
    "from random import shuffle\n",
    "\n",
    "class Card(object):\n",
    "    \"\"\"Represents a standard playing card.\"\"\"\n",
    "\n",
    "    def __init__(self, suit=0, rank=2):\n",
    "        self.suit = suit\n",
    "        self.rank = rank\n",
    "\n",
    "    suit_names = ['Clubs', 'Diamonds', 'Hearts', 'Spades']\n",
    "    rank_names = [None, 'Ace', '2', '3', '4', '5', '6', '7',\n",
    "              '8', '9', '10', 'Jack', 'Queen', 'King']\n",
    "\n",
    "    def __str__(self):\n",
    "        return '%s of %s' % (Card.rank_names[self.rank],\n",
    "                             Card.suit_names[self.suit])\n",
    "    \n",
    "    def __repr__(self):\n",
    "        return 'Card <{}, {}>'.format(self.rank_names[self.rank], self.suit_names[self.suit])\n",
    "    \n",
    "    # I'm using the following 'rich comparison' methods in place of __cmp__ \n",
    "    # https://docs.python.org/2/reference/datamodel.html#object.__lt__\n",
    "    \n",
    "    def __lt__(self, other):\n",
    "        return self.rank < other.rank\n",
    "    \n",
    "    def __gt__(self, other):\n",
    "        return self.rank > other.rank\n",
    "    \n",
    "    def __eq__(self, other):\n",
    "        return self.rank == other.rank\n",
    "\n",
    "\n",
    "\n",
    "class Deck(object):\n",
    "    def __init__(self):\n",
    "        self.cards = [Card(suit, rank) for suit in range(4) for rank in range(1, 14)]\n",
    "        \n",
    "    def __str__(self):\n",
    "        return '\\n'.join([str(card) for card in self.cards])\n",
    "    \n",
    "    def __repr__(self):\n",
    "        return \"Deck <{}>\".format(self.cards)\n",
    "    \n",
    "    def __len__(self):\n",
    "        return len(self.cards)\n",
    "    \n",
    "    def shuffle(self):\n",
    "        shuffle(self.cards)\n",
    "        return \"deck has been shuffled.\"\n",
    "    \n",
    "    def sort(self):\n",
    "        self.cards.sort()\n",
    "        return \"deck has been sorted.\"\n",
    "    \n",
    "    def deal_hands(self, num_of_hands, cards_per_hand):\n",
    "        if (num_of_hands * cards_per_hand) > len(self):\n",
    "            msg = '\\n{} hands with {} cards each is {} cards\\\n",
    "            \\nTotal cards left in deck: {}'.format(num_of_hands, cards_per_hand, num_of_hands * cards_per_hand, len(self))\n",
    "            raise ValueError(msg)\n",
    "        else:\n",
    "            hands = []\n",
    "            for h in range(num_of_hands):\n",
    "                hand = Hand()\n",
    "                for c in range(cards_per_hand):\n",
    "                    hand.cards.append(self.cards.pop())\n",
    "                hands.append(hand)\n",
    "            return hands\n",
    "            \n",
    "                    \n",
    "    \n",
    "class Hand(object):\n",
    "    def __init__(self):\n",
    "        self.cards = []\n",
    "        \n",
    "    def __repr__(self):\n",
    "        return \"Hand <{}>\".format(self.cards)"
   ]
  },
  {
   "cell_type": "code",
   "execution_count": 97,
   "metadata": {
    "collapsed": true
   },
   "outputs": [],
   "source": [
    "hand = Hand()"
   ]
  },
  {
   "cell_type": "code",
   "execution_count": 98,
   "metadata": {
    "collapsed": false
   },
   "outputs": [
    {
     "data": {
      "text/plain": [
       "'deck has been shuffled.'"
      ]
     },
     "execution_count": 98,
     "metadata": {},
     "output_type": "execute_result"
    }
   ],
   "source": [
    "deck = Deck()\n",
    "deck.shuffle()"
   ]
  },
  {
   "cell_type": "code",
   "execution_count": 99,
   "metadata": {
    "collapsed": false
   },
   "outputs": [
    {
     "data": {
      "text/plain": [
       "[Hand <[Card <5, Hearts>, Card <10, Diamonds>, Card <10, Clubs>]>,\n",
       " Hand <[Card <4, Diamonds>, Card <Jack, Diamonds>, Card <Jack, Hearts>]>,\n",
       " Hand <[Card <5, Spades>, Card <9, Clubs>, Card <5, Diamonds>]>]"
      ]
     },
     "execution_count": 99,
     "metadata": {},
     "output_type": "execute_result"
    }
   ],
   "source": [
    "deck.deal_hands(3, 3)"
   ]
  },
  {
   "cell_type": "code",
   "execution_count": 100,
   "metadata": {
    "collapsed": false
   },
   "outputs": [
    {
     "data": {
      "text/plain": [
       "[Hand <[Card <Ace, Clubs>, Card <7, Clubs>, Card <2, Diamonds>]>,\n",
       " Hand <[Card <8, Clubs>, Card <4, Hearts>, Card <Jack, Spades>]>,\n",
       " Hand <[Card <Ace, Diamonds>, Card <Jack, Clubs>, Card <3, Hearts>]>]"
      ]
     },
     "execution_count": 100,
     "metadata": {},
     "output_type": "execute_result"
    }
   ],
   "source": [
    "deck.deal_hands(3, 3)"
   ]
  },
  {
   "cell_type": "code",
   "execution_count": 101,
   "metadata": {
    "collapsed": false
   },
   "outputs": [
    {
     "data": {
      "text/plain": [
       "[Hand <[Card <Ace, Spades>, Card <King, Diamonds>, Card <6, Hearts>]>,\n",
       " Hand <[Card <9, Spades>, Card <7, Diamonds>, Card <8, Spades>]>,\n",
       " Hand <[Card <3, Clubs>, Card <6, Spades>, Card <10, Hearts>]>]"
      ]
     },
     "execution_count": 101,
     "metadata": {},
     "output_type": "execute_result"
    }
   ],
   "source": [
    "deck.deal_hands(3, 3)"
   ]
  },
  {
   "cell_type": "code",
   "execution_count": 102,
   "metadata": {
    "collapsed": false
   },
   "outputs": [
    {
     "data": {
      "text/plain": [
       "[Hand <[Card <2, Spades>, Card <King, Clubs>, Card <Queen, Spades>, Card <3, Diamonds>, Card <4, Spades>]>,\n",
       " Hand <[Card <Queen, Hearts>, Card <6, Diamonds>, Card <Queen, Clubs>, Card <8, Diamonds>, Card <Ace, Hearts>]>,\n",
       " Hand <[Card <6, Clubs>, Card <Queen, Diamonds>, Card <7, Hearts>, Card <7, Spades>, Card <4, Clubs>]>,\n",
       " Hand <[Card <9, Diamonds>, Card <King, Spades>, Card <8, Hearts>, Card <5, Clubs>, Card <3, Spades>]>,\n",
       " Hand <[Card <9, Hearts>, Card <10, Spades>, Card <2, Clubs>, Card <King, Hearts>, Card <2, Hearts>]>]"
      ]
     },
     "execution_count": 102,
     "metadata": {},
     "output_type": "execute_result"
    }
   ],
   "source": [
    "deck.deal_hands(5, 5)"
   ]
  },
  {
   "cell_type": "code",
   "execution_count": 103,
   "metadata": {
    "collapsed": false
   },
   "outputs": [
    {
     "ename": "ValueError",
     "evalue": "\n1 hands with 1 cards each is 1 cards            \nTotal cards left in deck: 0",
     "output_type": "error",
     "traceback": [
      "\u001b[1;31m---------------------------------------------------------------------------\u001b[0m",
      "\u001b[1;31mValueError\u001b[0m                                Traceback (most recent call last)",
      "\u001b[1;32m<ipython-input-103-d3fde1e72d35>\u001b[0m in \u001b[0;36m<module>\u001b[1;34m()\u001b[0m\n\u001b[1;32m----> 1\u001b[1;33m \u001b[0mdeck\u001b[0m\u001b[1;33m.\u001b[0m\u001b[0mdeal_hands\u001b[0m\u001b[1;33m(\u001b[0m\u001b[1;36m1\u001b[0m\u001b[1;33m,\u001b[0m \u001b[1;36m1\u001b[0m\u001b[1;33m)\u001b[0m\u001b[1;33m\u001b[0m\u001b[0m\n\u001b[0m",
      "\u001b[1;32m<ipython-input-96-58f59268dddb>\u001b[0m in \u001b[0;36mdeal_hands\u001b[1;34m(self, num_of_hands, cards_per_hand)\u001b[0m\n\u001b[0;32m     75\u001b[0m         \u001b[1;32mif\u001b[0m \u001b[1;33m(\u001b[0m\u001b[0mnum_of_hands\u001b[0m \u001b[1;33m*\u001b[0m \u001b[0mcards_per_hand\u001b[0m\u001b[1;33m)\u001b[0m \u001b[1;33m>\u001b[0m \u001b[0mlen\u001b[0m\u001b[1;33m(\u001b[0m\u001b[0mself\u001b[0m\u001b[1;33m)\u001b[0m\u001b[1;33m:\u001b[0m\u001b[1;33m\u001b[0m\u001b[0m\n\u001b[0;32m     76\u001b[0m             \u001b[0mmsg\u001b[0m \u001b[1;33m=\u001b[0m \u001b[1;34m'\\n{} hands with {} cards each is {} cards            \\nTotal cards left in deck: {}'\u001b[0m\u001b[1;33m.\u001b[0m\u001b[0mformat\u001b[0m\u001b[1;33m(\u001b[0m\u001b[0mnum_of_hands\u001b[0m\u001b[1;33m,\u001b[0m \u001b[0mcards_per_hand\u001b[0m\u001b[1;33m,\u001b[0m \u001b[0mnum_of_hands\u001b[0m \u001b[1;33m*\u001b[0m \u001b[0mcards_per_hand\u001b[0m\u001b[1;33m,\u001b[0m \u001b[0mlen\u001b[0m\u001b[1;33m(\u001b[0m\u001b[0mself\u001b[0m\u001b[1;33m)\u001b[0m\u001b[1;33m)\u001b[0m\u001b[1;33m\u001b[0m\u001b[0m\n\u001b[1;32m---> 77\u001b[1;33m             \u001b[1;32mraise\u001b[0m \u001b[0mValueError\u001b[0m\u001b[1;33m(\u001b[0m\u001b[0mmsg\u001b[0m\u001b[1;33m)\u001b[0m\u001b[1;33m\u001b[0m\u001b[0m\n\u001b[0m\u001b[0;32m     78\u001b[0m         \u001b[1;32melse\u001b[0m\u001b[1;33m:\u001b[0m\u001b[1;33m\u001b[0m\u001b[0m\n\u001b[0;32m     79\u001b[0m             \u001b[0mhands\u001b[0m \u001b[1;33m=\u001b[0m \u001b[1;33m[\u001b[0m\u001b[1;33m]\u001b[0m\u001b[1;33m\u001b[0m\u001b[0m\n",
      "\u001b[1;31mValueError\u001b[0m: \n1 hands with 1 cards each is 1 cards            \nTotal cards left in deck: 0"
     ]
    }
   ],
   "source": [
    "deck.deal_hands(1, 1)"
   ]
  },
  {
   "cell_type": "code",
   "execution_count": null,
   "metadata": {
    "collapsed": true
   },
   "outputs": [],
   "source": []
  },
  {
   "cell_type": "code",
   "execution_count": null,
   "metadata": {
    "collapsed": true
   },
   "outputs": [],
   "source": []
  },
  {
   "cell_type": "code",
   "execution_count": null,
   "metadata": {
    "collapsed": true
   },
   "outputs": [],
   "source": []
  },
  {
   "cell_type": "code",
   "execution_count": null,
   "metadata": {
    "collapsed": true
   },
   "outputs": [],
   "source": []
  },
  {
   "cell_type": "code",
   "execution_count": null,
   "metadata": {
    "collapsed": true
   },
   "outputs": [],
   "source": []
  },
  {
   "cell_type": "code",
   "execution_count": null,
   "metadata": {
    "collapsed": true
   },
   "outputs": [],
   "source": []
  },
  {
   "cell_type": "code",
   "execution_count": null,
   "metadata": {
    "collapsed": true
   },
   "outputs": [],
   "source": []
  },
  {
   "cell_type": "code",
   "execution_count": null,
   "metadata": {
    "collapsed": true
   },
   "outputs": [],
   "source": []
  },
  {
   "cell_type": "code",
   "execution_count": null,
   "metadata": {
    "collapsed": true
   },
   "outputs": [],
   "source": []
  },
  {
   "cell_type": "code",
   "execution_count": null,
   "metadata": {
    "collapsed": true
   },
   "outputs": [],
   "source": []
  },
  {
   "cell_type": "code",
   "execution_count": null,
   "metadata": {
    "collapsed": true
   },
   "outputs": [],
   "source": []
  },
  {
   "cell_type": "code",
   "execution_count": null,
   "metadata": {
    "collapsed": true
   },
   "outputs": [],
   "source": []
  },
  {
   "cell_type": "code",
   "execution_count": null,
   "metadata": {
    "collapsed": true
   },
   "outputs": [],
   "source": []
  },
  {
   "cell_type": "code",
   "execution_count": null,
   "metadata": {
    "collapsed": true
   },
   "outputs": [],
   "source": []
  },
  {
   "cell_type": "code",
   "execution_count": null,
   "metadata": {
    "collapsed": true
   },
   "outputs": [],
   "source": []
  },
  {
   "cell_type": "code",
   "execution_count": null,
   "metadata": {
    "collapsed": true
   },
   "outputs": [],
   "source": []
  },
  {
   "cell_type": "code",
   "execution_count": null,
   "metadata": {
    "collapsed": true
   },
   "outputs": [],
   "source": []
  }
 ],
 "metadata": {
  "kernelspec": {
   "display_name": "Python 3",
   "language": "python",
   "name": "python3"
  },
  "language_info": {
   "codemirror_mode": {
    "name": "ipython",
    "version": 3
   },
   "file_extension": ".py",
   "mimetype": "text/x-python",
   "name": "python",
   "nbconvert_exporter": "python",
   "pygments_lexer": "ipython3",
   "version": "3.5.1"
  }
 },
 "nbformat": 4,
 "nbformat_minor": 0
}
