{
 "cells": [
  {
   "cell_type": "code",
   "execution_count": null,
   "metadata": {
    "collapsed": true
   },
   "outputs": [],
   "source": [
    "# %load 18.05\n",
    "# The following are the possible hands in poker, in increasing order of \n",
    "# value (and decreasing order of probability):\n",
    "# pair: two cards with the same rank\n",
    "# two pair: two pairs of cards with the same rank\n",
    "# three of a kind: three cards with the same rank\n",
    "# straight: five cards with ranks in sequence (aces can be high or low, so\n",
    "# Ace-2-3-4-5 is a straight and so is 10-Jack-Queen-King-Ace, but \n",
    "# Queen-King-Ace-2-3 is not.)\n",
    "# flush: five cards with the same suit\n",
    "# full house: three cards with one rank, two cards with another\n",
    "# four of a kind: four cards with the same rank\n",
    "# straight flush: five cards in sequence (as defined above) and with the same\n",
    "# suit\n",
    "# The goal of these exercises is to estimate the probability of drawing these\n",
    "# various hands.\n",
    "# 1. Download the following files from thinkpython.com/code:\n",
    "# Card.py : A complete version of the Card, Deck and Hand classes in this \n",
    "# chapter. PokerHand.py : An incomplete implementation of a class that \n",
    "# represents a poker hand, and some code that tests it.\n",
    "# 2. If you run PokerHand.py, it deals seven 7-card poker hands and checks to\n",
    "# see if any of them contains a flush. Read this code carefully before you go\n",
    "# on.\n",
    "# 3. Add methods to PokerHand.py named has_pair, has_twopair, etc. that\n",
    "# return True or False according to whether or not the hand meets the relevant\n",
    "# criteria. Your code should work correctly for \"hands\" that contain any\n",
    "# number of cards (although 5 and 7 are the most common sizes).\n",
    "# 4. Write a method named classify that figures out the highest-value\n",
    "# classification for a hand and sets the label attribute accordingly. For\n",
    "# example, a 7-card hand might contain a flush and a pair; it should be\n",
    "# labeled \"flush\".\n",
    "# 5. When you are convinced that your classification methods are working, \n",
    "# the next step is to estimate the probabilities of the various hands. Write\n",
    "# a function in PokerHand.py that shuffles a deck of cards, divides it into \n",
    "# hands, classifies the hands, and counts the number of times various\n",
    "# classifications appear.\n",
    "# 6. Print a table of the classifications and their probabilities. Run your\n",
    "# program with larger and larger numbers of hands until the output values\n",
    "# converge to a reasonable degree of accuracy. Compare your results to the\n",
    "# values at wikipedia.org/wiki/Hand_rankings.\n",
    "\n",
    "# Current Status: Incomplete"
   ]
  },
  {
   "cell_type": "code",
   "execution_count": null,
   "metadata": {
    "collapsed": true
   },
   "outputs": [],
   "source": []
  }
 ],
 "metadata": {
  "kernelspec": {
   "display_name": "Python 3",
   "language": "python",
   "name": "python3"
  },
  "language_info": {
   "codemirror_mode": {
    "name": "ipython",
    "version": 3
   },
   "file_extension": ".py",
   "mimetype": "text/x-python",
   "name": "python",
   "nbconvert_exporter": "python",
   "pygments_lexer": "ipython3",
   "version": "3.5.1"
  }
 },
 "nbformat": 4,
 "nbformat_minor": 0
}
